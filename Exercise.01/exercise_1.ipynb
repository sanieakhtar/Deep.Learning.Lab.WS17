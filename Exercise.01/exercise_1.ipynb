{
 "cells": [
  {
   "cell_type": "code",
   "execution_count": 1,
   "metadata": {
    "collapsed": true
   },
   "outputs": [],
   "source": [
    "import numpy as np\n",
    "import cPickle\n",
    "import os\n",
    "import gzip\n",
    "import matplotlib"
   ]
  },
  {
   "cell_type": "markdown",
   "metadata": {},
   "source": [
    "# First exercise: Classifying MNIST with MLPs\n",
    "In this exercise you will implement a Neural Network (or MLP) and classify the MNIST digits with it.\n",
    "MNIST is a \"well hung\" dataset that has been used a lot over the years to benchmark different classification algorithms. \n",
    "To learn more about it have a look here: http://yann.lecun.com/exdb/mnist/ ."
   ]
  },
  {
   "cell_type": "markdown",
   "metadata": {},
   "source": [
    "# Data Loading\n",
    "We first define a function for downloading and loading MNIST.\n",
    "**WARNING**: Executing it will obviously use up some space on your machine ;). "
   ]
  },
  {
   "cell_type": "code",
   "execution_count": 2,
   "metadata": {
    "collapsed": true
   },
   "outputs": [],
   "source": [
    "def mnist(datasets_dir='./data'):\n",
    "    if not os.path.exists(datasets_dir):\n",
    "        os.mkdir(datasets_dir)\n",
    "    data_file = os.path.join(datasets_dir, 'mnist.pkl.gz')\n",
    "    if not os.path.exists(data_file):\n",
    "        print('... downloading MNIST from the web')\n",
    "        try:\n",
    "            import urllib\n",
    "            urllib.urlretrieve('http://google.com')\n",
    "        except AttributeError:\n",
    "            import urllib.request as urllib\n",
    "        url = 'http://www.iro.umontreal.ca/~lisa/deep/data/mnist/mnist.pkl.gz'\n",
    "        urllib.urlretrieve(url, data_file)\n",
    "\n",
    "    print('... loading data')\n",
    "    # Load the dataset\n",
    "    f = gzip.open(data_file, 'rb')\n",
    "    try:\n",
    "        train_set, valid_set, test_set = cPickle.load(f, encoding=\"latin1\")\n",
    "    except TypeError:\n",
    "        train_set, valid_set, test_set = cPickle.load(f)\n",
    "    f.close()\n",
    "\n",
    "    test_x, test_y = test_set\n",
    "    test_x = test_x.astype('float32')\n",
    "    test_x = test_x.astype('float32').reshape(test_x.shape[0], 1, 28, 28)\n",
    "    test_y = test_y.astype('int32')\n",
    "    valid_x, valid_y = valid_set\n",
    "    valid_x = valid_x.astype('float32')\n",
    "    valid_x = valid_x.astype('float32').reshape(valid_x.shape[0], 1, 28, 28)\n",
    "    valid_y = valid_y.astype('int32')\n",
    "    train_x, train_y = train_set\n",
    "    train_x = train_x.astype('float32').reshape(train_x.shape[0], 1, 28, 28)\n",
    "    train_y = train_y.astype('int32')\n",
    "    rval = [(train_x, train_y), (valid_x, valid_y), (test_x, test_y)]\n",
    "    print('... done loading data')\n",
    "    return rval"
   ]
  },
  {
   "cell_type": "markdown",
   "metadata": {},
   "source": [
    "# Neural Network Layers\n",
    "We now define \"bare bone\" neural network layers.\n",
    "The parts marked with **TODO** are where you should finish the implementation!\n",
    "Conceptually we will implement the layers as follows:\n",
    "\n",
    "Each layer has a constructor that takes an input layer plus some additional arguments such as layer size and the activation function name. The layer then uses the provided input layer to compute the layer dimensions, weight shapes, etc. and setup all auxilliary variables.\n",
    "\n",
    "Each layer then has to provide three functions (as defined in the Layer class below): *output_shape()*, *fprop()* and *brop()*. The output_shape function is used to figure out the shape for the next layer and the *fprop()/bprop()* functions are used to compute forward and backward passes through the network."
   ]
  },
  {
   "cell_type": "code",
   "execution_count": 3,
   "metadata": {
    "collapsed": true
   },
   "outputs": [],
   "source": [
    "# start by defining simple helpers\n",
    "def sigmoid(x):\n",
    "    return 1.0/(1.0+np.exp(-x))\n",
    "\n",
    "def sigmoid_d(x):\n",
    "    return sigmoid(x)*(1 - sigmoid(x))\n",
    "\n",
    "def tanh(x):\n",
    "    return np.tanh(x)\n",
    "\n",
    "def tanh_d(x):\n",
    "    return (1 - np.square(np.tanh(x)))\n",
    "\n",
    "def relu(x):\n",
    "    return np.maximum(0.0, x)\n",
    "\n",
    "def relu_d(x):\n",
    "    rel = relu(x)\n",
    "    relD = (rel>0).astype(float)\n",
    "    return relD\n",
    "\n",
    "def softmax(x, axis=1):\n",
    "    x_max = np.max(x, axis=axis, keepdims=True)\n",
    "    x_safe = x - x_max\n",
    "    e_x = np.exp(x_safe)\n",
    "    return e_x / np.sum(e_x, axis=axis, keepdims=True)\n",
    "\n",
    "def one_hot(labels):\n",
    "    \"\"\"this creates a one hot encoding from a flat vector:\n",
    "    i.e. given y = [0,2,1]\n",
    "     it creates y_one_hot = [[1,0,0], [0,0,1], [0,1,0]]\n",
    "    \"\"\"\n",
    "    classes = np.unique(labels)\n",
    "    n_classes = classes.size\n",
    "    one_hot_labels = np.zeros(labels.shape + (n_classes,))\n",
    "    for c in classes:\n",
    "        one_hot_labels[labels == c, c] = 1\n",
    "    return one_hot_labels\n",
    "\n",
    "def unhot(one_hot_labels):\n",
    "    \"\"\" Invert a one hot encoding, creating a flat vector \"\"\"\n",
    "    return np.argmax(one_hot_labels, axis=-1)\n",
    "\n",
    "# then define an activation function class\n",
    "class Activation(object):\n",
    "    \n",
    "    def __init__(self, tname):\n",
    "        if tname == 'sigmoid':\n",
    "            self.act = sigmoid\n",
    "            self.act_d = sigmoid_d\n",
    "        elif tname == 'tanh':\n",
    "            self.act = tanh\n",
    "            self.act_d = tanh_d\n",
    "        elif tname == 'relu':\n",
    "            self.act = relu\n",
    "            self.act_d = relu_d\n",
    "        else:\n",
    "            raise ValueError('Invalid activation function.')\n",
    "            \n",
    "    def fprop(self, input):\n",
    "        self.last_input = input\n",
    "        return self.act(input)\n",
    "    \n",
    "    def bprop(self, output_grad):\n",
    "        return output_grad * self.act_d(self.last_input)\n",
    "\n",
    "# define a base class for layers\n",
    "class Layer(object):\n",
    "    \n",
    "    def fprop(self, input):\n",
    "        \"\"\" Calculate layer output for given input \n",
    "            (forward propagation). \n",
    "        \"\"\"\n",
    "        raise NotImplementedError('This is an interface class, please use a derived instance')\n",
    "\n",
    "    def bprop(self, output_grad):\n",
    "        \"\"\" Calculate input gradient and gradient \n",
    "            with respect to weights and bias (backpropagation). \n",
    "        \"\"\"\n",
    "        raise NotImplementedError('This is an interface class, please use a derived instance')\n",
    "\n",
    "    def output_size(self):\n",
    "        \"\"\" Calculate size of this layer's output.\n",
    "        input_shape[0] is the number of samples in the input.\n",
    "        input_shape[1:] is the shape of the feature.\n",
    "        \"\"\"\n",
    "        raise NotImplementedError('This is an interface class, please use a derived instance')\n",
    "\n",
    "# define a base class for loss outputs\n",
    "# an output layer can then simply be derived\n",
    "# from both Layer and Loss \n",
    "class Loss(object):\n",
    "\n",
    "    def loss(self, output, output_net):\n",
    "        \"\"\" Calculate mean loss given real output and network output. \"\"\"\n",
    "        raise NotImplementedError('This is an interface class, please use a derived instance')\n",
    "\n",
    "    def input_grad(self, output, output_net):\n",
    "        \"\"\" Calculate input gradient real output and network output. \"\"\"\n",
    "        raise NotImplementedError('This is an interface class, please use a derived instance')\n",
    "\n",
    "# define a base class for parameterized things        \n",
    "class Parameterized(object):\n",
    "    \n",
    "    def params(self):\n",
    "        \"\"\" Return parameters (by reference) \"\"\"\n",
    "        raise NotImplementedError('This is an interface class, please use a derived instance')\n",
    "    \n",
    "    def grad_params(self):\n",
    "        \"\"\" Return accumulated gradient with respect to params. \"\"\"\n",
    "        raise NotImplementedError('This is an interface class, please use a derived instance')\n",
    "\n",
    "# define a container for providing input to the network\n",
    "class InputLayer(Layer):\n",
    "    \n",
    "    def __init__(self, input_shape):\n",
    "        if not isinstance(input_shape, tuple):\n",
    "            raise ValueError(\"InputLayer requires input_shape as a tuple\")\n",
    "        self.input_shape = input_shape\n",
    "\n",
    "    def output_size(self):\n",
    "        return self.input_shape\n",
    "    \n",
    "    def fprop(self, input):\n",
    "        return input\n",
    "    \n",
    "    def bprop(self, output_grad):\n",
    "        return output_grad\n",
    "        \n",
    "class FullyConnectedLayer(Layer, Parameterized):\n",
    "    \"\"\" A standard fully connected hidden layer, as discussed in the lecture.\n",
    "    \"\"\"\n",
    "    \n",
    "    def __init__(self, input_layer, num_units, \n",
    "                 init_stddev, activation_fun=Activation('relu')):\n",
    "        self.num_units = num_units\n",
    "        self.activation_fun = activation_fun\n",
    "        # the input shape will be of size (batch_size, num_units_prev) \n",
    "        # where num_units_prev is the number of units in the input \n",
    "        # (previous) layer\n",
    "        self.input_shape = input_layer.output_size()\n",
    "        self.W = np.random.normal(0,init_stddev,(self.input_shape[1], self.num_units))\n",
    "        self.b = np.zeros(self.num_units)\n",
    "        # and this is the bias vector of shape: (num_units)\n",
    "        ## vector of shape num_units, filled with zeroes\n",
    "        self.dW = None\n",
    "        self.db = None\n",
    "    \n",
    "    def output_size(self):\n",
    "        return (self.input_shape[0], self.num_units)\n",
    "    \n",
    "    def fprop(self, input):\n",
    "        self.last_input = input\n",
    "        act = np.dot(input, self.W) + self.b\n",
    "        \n",
    "        if self.activation_fun == None:\n",
    "            return act\n",
    "        else:\n",
    "            return self.activation_fun.fprop(act)\n",
    "        \n",
    "    def bprop(self, output_grad):\n",
    "        \"\"\" Calculate input gradient (backpropagation). \"\"\"\n",
    "        n = output_grad.shape[0]\n",
    "        if self.activation_fun == None:\n",
    "            prev_output_grad = output_grad\n",
    "            # the gradient of the output layer comes from the output \n",
    "        else:\n",
    "            prev_output_grad = self.activation_fun.bprop(output_grad)\n",
    "            \n",
    "        self.dW = np.dot(self.last_input.T, prev_output_grad)\n",
    "        self.db = np.sum(prev_output_grad, axis=0) \n",
    "        \n",
    "        # the gradient wrt. the input should be calculated here\n",
    "        grad_input = np.dot(prev_output_grad, self.W.T)\n",
    "        return grad_input\n",
    "        \n",
    "    def params(self):\n",
    "        return self.W, self.b\n",
    "\n",
    "    def grad_params(self):\n",
    "        return self.dW, self.db\n",
    "\n",
    "# finally we specify the interface for output layers \n",
    "# which are layers that also have a loss function\n",
    "# we will implement two output layers:\n",
    "#  a Linear, and Softmax (Logistic Regression) layer\n",
    "# The difference between output layers and and normal \n",
    "# layers is that they will be called to compute the gradient\n",
    "# of the loss through input_grad(). bprop will never \n",
    "# be called on them!\n",
    "class LinearOutput(Layer, Loss):\n",
    "    \"\"\" A simple linear output layer that  \n",
    "        uses a squared loss (e.g. should be used for regression)\n",
    "    \"\"\"\n",
    "    def __init__(self, input_layer):\n",
    "        self.input_size = input_layer.output_size()\n",
    "        \n",
    "    def output_size(self):\n",
    "        return (1,)\n",
    "        \n",
    "    def fprop(self, input):\n",
    "        return input\n",
    "\n",
    "    def bprop(self, output_grad):\n",
    "        raise NotImplementedError(\n",
    "            'LinearOutput should only be used as the last layer of a Network'\n",
    "            + ' bprop() should thus never be called on it!'\n",
    "        )\n",
    "    \n",
    "    def input_grad(self, Y, Y_pred):\n",
    "        return -(Y - Y_pred)\n",
    "\n",
    "    def loss(self, Y, Y_pred):\n",
    "        loss = 0.5 * np.square(Y_pred - Y)\n",
    "        return np.mean(np.sum(loss, axis=1))\n",
    "\n",
    "class SoftmaxOutput(Layer, Loss):\n",
    "    \"\"\" A softmax output layer that calculates \n",
    "        the negative log likelihood as loss\n",
    "        and should be used for classification.\n",
    "    \"\"\"\n",
    "    \n",
    "    def __init__(self, input_layer):\n",
    "        self.input_size = input_layer.output_size()\n",
    "        \n",
    "    def output_size(self):\n",
    "        return (1,)\n",
    "    \n",
    "    def fprop(self, input):\n",
    "        return softmax(input)\n",
    "    \n",
    "    def bprop(self, output_grad):\n",
    "        raise NotImplementedError(\n",
    "            'SoftmaxOutput should only be used as the last layer of a Network'\n",
    "            + ' bprop() should thus never be called on it!'\n",
    "        )\n",
    "    \n",
    "    def input_grad(self, Y, Y_pred):\n",
    "\n",
    "        n = Y_pred.shape[0]\n",
    "        return ((Y_pred - Y)/n)\n",
    "\n",
    "    def loss(self, Y, Y_pred):\n",
    "        # Assume one-hot encoding of Y\n",
    "        # what difference does one-hot encoding make?\n",
    "        ## one-hot encoding can be viewed as a probability vector where\n",
    "        ## all the probability mass is concentrated at the correct class. \n",
    "        out = Y_pred\n",
    "        n = Y_pred.shape[0]\n",
    "        eps = 1e-10\n",
    "        loss = - np.sum(np.log(out + eps) * Y)/n\n",
    "        return np.mean(loss)"
   ]
  },
  {
   "cell_type": "markdown",
   "metadata": {},
   "source": [
    "# Neural Network class\n",
    "With all layers in place (and properly implemented by you) we can finally define a neural network.\n",
    "For our purposes a neural network is simply a collection of layers which we will cycle through and on which we will call fprop and bprop to compute partial derivatives with respect to the input and the parameters.\n",
    "\n",
    "Pay special attention to the *check_gradients()* function in which you should implement automatic differentiation. This function will become your best friend when checking the correctness of your implementation."
   ]
  },
  {
   "cell_type": "code",
   "execution_count": 90,
   "metadata": {},
   "outputs": [],
   "source": [
    "\n",
    "class NeuralNetwork:\n",
    "    \"\"\" Our Neural Network container class.\n",
    "    \"\"\"\n",
    "    def __init__(self, layers):\n",
    "        self.layers = layers\n",
    "        \n",
    "    def _loss(self, X, Y):\n",
    "        Y_pred = self.predict(X)\n",
    "        return self.layers[-1].loss(Y, Y_pred)\n",
    "    ## why this is not self.layers.loss(Y_pred, Y) or (self, Y, X) or what is X?\n",
    "\n",
    "    def predict(self, X):\n",
    "        \"\"\" Calculate an output Y for the given input X. \"\"\"\n",
    "        ## X is the main input of the entire neural network\n",
    "        ## which also becomes the h(x) output of every layer and\n",
    "        ## input to a = h(x).w + b activation input of the next layer\n",
    "        ## in slides it's w.h(x) but in implementation it's the other way\n",
    "        Y_pred = X\n",
    "        for singleLayer in self.layers:\n",
    "            Y_pred = singleLayer.fprop(Y_pred)\n",
    "        return Y_pred\n",
    "    \n",
    "    def backpropagate(self, Y, Y_pred, upto=0):\n",
    "        \"\"\" Backpropagation of partial derivatives through \n",
    "            the complete network up to layer 'upto'\n",
    "        \"\"\"\n",
    "        next_grad = self.layers[-1].input_grad(Y, Y_pred)\n",
    "        for singleLayer in self.layers[-2:upto-len(self.layers)-1:-1]:\n",
    "            next_grad = singleLayer.bprop(next_grad)\n",
    "        return next_grad\n",
    "    \n",
    "    def classification_error(self, X, Y):\n",
    "        \"\"\" Calculate error on the given data \n",
    "            assuming they are classes that should be predicted. \n",
    "        \"\"\"\n",
    "        Y_pred = unhot(self.predict(X))\n",
    "        error = Y_pred != Y\n",
    "        return np.mean(error)\n",
    "    \n",
    "    def sgd_epoch(self, X, Y, learning_rate, batch_size):\n",
    "        n_samples = X.shape[0]\n",
    "        n_batches = n_samples // batch_size\n",
    "        start_batch = 0\n",
    "        for b in range(n_batches):\n",
    "            end_batch = start_batch + batch_size\n",
    "            X_samples = X[start_batch:end_batch]\n",
    "            Y_samples = Y[start_batch:end_batch]            \n",
    "            ## Run forward propagation on selected batch\n",
    "            Y_pred = self.predict(X_samples)\n",
    "            \n",
    "            ## Run backward propagation on selected batch and predictions\n",
    "            self.backpropagate(Y_samples, Y_pred)\n",
    "            \n",
    "            ## grad_params - is basically the gradients \n",
    "            for layer in self.layers:\n",
    "                if isinstance (layer, Parameterized):\n",
    "                    layer.W -= learning_rate*layer.dW\n",
    "            ## set start point of next batch as the end of current batch + 1\n",
    "            start_batch = end_batch\n",
    "            \n",
    "    def gd_epoch(self, X, Y, learning_rate):\n",
    "        batch_size = X.shape[0]\n",
    "        self.sgd_epoch(X, Y, learning_rate, batch_size)\n",
    "    \n",
    "    def train(self, X, Y, X_valid, Y_valid, learning_rate=0.1, max_epochs=100, batch_size=64,\n",
    "              descent_type=\"sgd\", y_one_hot=True):\n",
    "\n",
    "        \"\"\" Train network on the given data. \"\"\"\n",
    "        n_samples = X.shape[0]\n",
    "        n_batches = n_samples // batch_size\n",
    "        ## to collect the training and validation errors over the epochs and plot later\n",
    "        self.validError = []\n",
    "        self.trainError = []\n",
    "#         self.descent_type = descent_type\n",
    "        if y_one_hot:\n",
    "            Y_train = one_hot(Y)\n",
    "        else:\n",
    "            Y_train = Y\n",
    "        print(\"... starting training\")\n",
    "        for e in range(max_epochs+1):\n",
    "#             print (\"epoch:\", e)\n",
    "            if descent_type == \"sgd\":\n",
    "                self.sgd_epoch(X, Y_train, learning_rate, batch_size)\n",
    "            elif descent_type == \"gd\":\n",
    "                self.gd_epoch(X, Y_train, learning_rate)\n",
    "            else:\n",
    "                raise NotImplementedError(\"Unknown gradient descent type {}\".format(descent_type))\n",
    "\n",
    "            # Output error on the training data\n",
    "            train_loss = self._loss(X, Y_train)\n",
    "            train_error = self.classification_error(X, Y)\n",
    "            print('epoch {:.4f}, loss {:.4f}, train error {:.4%}'.format(e, train_loss, train_error))\n",
    "        \n",
    "        \n",
    "            valid_error = self.classification_error(X_valid, Y_valid)\n",
    "            print('Validation error {:.4%}'.format(valid_error))\n",
    "            self.trainError.append(train_error)\n",
    "            self.validError.append(valid_error)\n",
    "\n",
    "        print(\"\")\n",
    "        print(\"Training Set Size: {}.\".format(X_train.shape[0]))\n",
    "        print(\"Gradient descent: {} \\nEpochs: {} \\nBatch Size: {}\" .format(descent_type, max_epochs, batch_size))\n",
    "        print(\"Learning rate: {} \\nTraining error: {:.4%}\\nValidation error: {:.4%}\\n\".format(learning_rate,\n",
    "                                                                                              train_error,\n",
    "                                                                                              valid_error))\n",
    "    def test(self, X, Y):\n",
    "        test_loss = self.classification_error(X,Y)\n",
    "        print(\"Testing Error: {:.2%}\". format(test_loss))\n",
    "    \n",
    "    def check_gradients(self, X, Y):\n",
    "        \"\"\" Helper function to test the parameter gradients for\n",
    "        correctness. \"\"\"\n",
    "        for l, layer in enumerate(self.layers):\n",
    "            if isinstance(layer, Parameterized):\n",
    "                print('checking gradient for layer {}'.format(l))\n",
    "                for p, param in enumerate(layer.params()):\n",
    "                    # we iterate through all parameters\n",
    "                    param_shape = param.shape\n",
    "                    # define functions for conveniently swapping\n",
    "                    # out parameters of this specific layer and \n",
    "                    # computing loss and gradient with these \n",
    "                    # changed parametrs\n",
    "                    def output_given_params(param_new):\n",
    "                        \"\"\" A function that will compute the output \n",
    "                            of the network given a set of parameters\n",
    "                        \"\"\"\n",
    "                        # copy provided parameters\n",
    "                        param[:] = np.reshape(param_new, param_shape)\n",
    "                        # return computed loss\n",
    "                        return self._loss(X, Y)\n",
    "\n",
    "                    def grad_given_params(param_new):\n",
    "                        \"\"\"A function that will compute the gradient \n",
    "                           of the network given a set of parameters\n",
    "                        \"\"\"\n",
    "                        # copy provided parameters\n",
    "                        param[:] = np.reshape(param_new, param_shape)\n",
    "                        # Forward propagation through the net\n",
    "                        Y_pred = self.predict(X)\n",
    "                        # Backpropagation of partial derivatives\n",
    "                        self.backpropagate(Y, Y_pred, upto=l)\n",
    "                        # return the computed gradient \n",
    "                        return np.ravel(self.layers[l].grad_params()[p])\n",
    "\n",
    "                    # let the initial parameters be the ones that\n",
    "                    # are currently placed in the network and flatten them\n",
    "                    # to a vector for convenient comparisons, printing etc.\n",
    "                    param_init = np.ravel(np.copy(param))\n",
    "                    \n",
    "                    epsilon = 1e-4\n",
    "#                     import scipy.optimize\n",
    "#                     err = scipy.optimize.check_grad(output_given_params, \n",
    "#                                                    grad_given_params, param_init)\n",
    "                    \n",
    "                    loss_base = output_given_params(param_init)\n",
    "                    gparam_bprop = grad_given_params(param_init)\n",
    "                    #      finite differences\n",
    "                    gparam_fd = np.zeros_like(param_init)\n",
    "                    \n",
    "                    param_cap = np.zeros_like(param_init) ## then run this\n",
    "                    for e in range(len(param_init)):\n",
    "                        param_cap = np.copy(param_init)\n",
    "                        param_cap[e] = param_cap[e] + epsilon\n",
    "                        gparam_fd[e] = (output_given_params(param_cap) - loss_base)/epsilon\n",
    "                        \n",
    "                    # calculate difference between them                        \n",
    "                    err = np.mean(np.abs(gparam_fd - gparam_bprop))\n",
    "                    print('diff {:.2e}'.format(err))\n",
    "#                     assert(err < epsilon)\n",
    "                    \n",
    "                    # reset the parameters to their initial values\n",
    "                    param[:] = np.reshape(param_init, param_shape)\n"
   ]
  },
  {
   "cell_type": "markdown",
   "metadata": {},
   "source": [
    "# Gradient Checking\n",
    "After implementing everything it is always a good idea to setup some layers and perform gradient\n",
    "checking on random data. **Note** that this is only an example! It is not a useful network architecture ;). We also expect you to play around with this to test all your implemented components."
   ]
  },
  {
   "cell_type": "code",
   "execution_count": 5,
   "metadata": {
    "collapsed": true
   },
   "outputs": [],
   "source": [
    "input_shape = (5, 10)\n",
    "n_labels = 6\n",
    "layers = [InputLayer(input_shape)]\n",
    "\n",
    "layers.append(FullyConnectedLayer(\n",
    "                layers[-1],\n",
    "                num_units=15,\n",
    "                init_stddev=0.1,\n",
    "                activation_fun=Activation('relu')\n",
    "))\n",
    "layers.append(FullyConnectedLayer(\n",
    "                layers[-1],\n",
    "                num_units=6,\n",
    "                init_stddev=0.1,\n",
    "                activation_fun=Activation('tanh')\n",
    "))\n",
    "layers.append(FullyConnectedLayer(\n",
    "                layers[-1],\n",
    "                num_units=n_labels,\n",
    "                init_stddev=0.1,\n",
    "                activation_fun=Activation('relu')\n",
    "))\n",
    "layers.append(SoftmaxOutput(layers[-1]))\n",
    "nn = NeuralNetwork(layers)"
   ]
  },
  {
   "cell_type": "code",
   "execution_count": 6,
   "metadata": {
    "collapsed": true
   },
   "outputs": [],
   "source": [
    "# create random data\n",
    "X = np.random.normal(size=input_shape)\n",
    "# and random labels\n",
    "Y = np.zeros((input_shape[0], n_labels))\n",
    "for i in range(Y.shape[0]):\n",
    "    idx = np.random.randint(n_labels)\n",
    "    Y[i, idx] = 1."
   ]
  },
  {
   "cell_type": "code",
   "execution_count": 66,
   "metadata": {},
   "outputs": [],
   "source": [
    "# nn.check_gradients(X, Y)"
   ]
  },
  {
   "cell_type": "markdown",
   "metadata": {},
   "source": [
    "# Training on MNIST\n",
    "Finally we can let our network run on the MNIST dataset!"
   ]
  },
  {
   "cell_type": "markdown",
   "metadata": {},
   "source": [
    "First load the data and reshape it."
   ]
  },
  {
   "cell_type": "code",
   "execution_count": 176,
   "metadata": {},
   "outputs": [
    {
     "name": "stdout",
     "output_type": "stream",
     "text": [
      "... loading data\n",
      "... done loading data\n"
     ]
    }
   ],
   "source": [
    "# load\n",
    "Dtrain, Dval, Dtest = mnist()\n",
    "# -> = [(train_x, train_y), (valid_x, valid_y), (test_x, test_y)]\n",
    "X_train, y_train = Dtrain\n",
    "X_valid, y_valid = Dval\n",
    "X_test, y_test = Dtest\n",
    "# Downsample training data to make it a bit faster for testing this code\n",
    "n_train_samples = 40000\n",
    "train_idxs = np.random.permutation(X_train.shape[0])[:n_train_samples]\n",
    "X_train = X_train[train_idxs]\n",
    "y_train = y_train[train_idxs]"
   ]
  },
  {
   "cell_type": "markdown",
   "metadata": {},
   "source": [
    "*Dtrain* contains 50k images which are of size 28 x 28 pixels. Hence:"
   ]
  },
  {
   "cell_type": "code",
   "execution_count": 177,
   "metadata": {},
   "outputs": [
    {
     "name": "stdout",
     "output_type": "stream",
     "text": [
      "X_train shape: (40000, 1, 28, 28)\n",
      "y_train shape: (40000,)\n"
     ]
    }
   ],
   "source": [
    "print(\"X_train shape: {}\".format(np.shape(X_train)))\n",
    "print(\"y_train shape: {}\".format(np.shape(y_train)))"
   ]
  },
  {
   "cell_type": "markdown",
   "metadata": {},
   "source": [
    "y_train will automatically be converted in the *train()* function to one_hot encoding\n",
    "\n",
    "But we need to reshape X_train, as our Network expects flat vectors of size 28*28 as input!"
   ]
  },
  {
   "cell_type": "code",
   "execution_count": 178,
   "metadata": {},
   "outputs": [
    {
     "name": "stdout",
     "output_type": "stream",
     "text": [
      "Reshaped X_train size: (40000, 784)\n",
      "Reshaped X_valid size: (10000, 784)\n",
      "Reshaped X_test size: (10000, 784)\n"
     ]
    }
   ],
   "source": [
    "X_train = X_train.reshape(X_train.shape[0], -1)\n",
    "print(\"Reshaped X_train size: {}\".format(X_train.shape))\n",
    "X_valid = X_valid.reshape((X_valid.shape[0], -1))\n",
    "print(\"Reshaped X_valid size: {}\".format(X_valid.shape))\n",
    "X_test = X_test.reshape((X_test.shape[0], -1))\n",
    "print(\"Reshaped X_test size: {}\".format(X_test.shape))"
   ]
  },
  {
   "cell_type": "markdown",
   "metadata": {},
   "source": [
    "Ah, much better ;-)! \n",
    "\n",
    "Now we can finally really start training a Network!\n",
    "\n",
    "\n",
    "I pre-defined a small Network for you below. Again This is not really a good default and will not produce state of the art results. Please play around with this a bit. See how different activation functions and training procedures (gd / sgd) affect the result."
   ]
  },
  {
   "cell_type": "code",
   "execution_count": 192,
   "metadata": {},
   "outputs": [
    {
     "name": "stdout",
     "output_type": "stream",
     "text": [
      "... starting training\n",
      "epoch 0.0000, loss 2.3026, train error 86.8825%\n",
      "Validation error 86.9000%\n",
      "epoch 1.0000, loss 2.3024, train error 87.8050%\n",
      "Validation error 87.9300%\n",
      "epoch 2.0000, loss 2.0253, train error 80.6600%\n",
      "Validation error 81.0100%\n",
      "epoch 3.0000, loss 0.4723, train error 13.6200%\n",
      "Validation error 12.5200%\n",
      "epoch 4.0000, loss 0.2199, train error 6.2125%\n",
      "Validation error 6.1300%\n",
      "epoch 5.0000, loss 0.1418, train error 4.0675%\n",
      "Validation error 4.6900%\n",
      "epoch 6.0000, loss 0.1178, train error 3.5125%\n",
      "Validation error 4.3800%\n",
      "epoch 7.0000, loss 0.0976, train error 2.8425%\n",
      "Validation error 4.1500%\n",
      "epoch 8.0000, loss 0.0838, train error 2.4850%\n",
      "Validation error 3.8700%\n",
      "epoch 9.0000, loss 0.0712, train error 2.1275%\n",
      "Validation error 3.9700%\n",
      "epoch 10.0000, loss 0.0623, train error 1.8250%\n",
      "Validation error 3.7200%\n",
      "epoch 11.0000, loss 0.0591, train error 1.9000%\n",
      "Validation error 3.7600%\n",
      "epoch 12.0000, loss 0.0596, train error 1.8175%\n",
      "Validation error 3.8500%\n",
      "epoch 13.0000, loss 0.0441, train error 1.3650%\n",
      "Validation error 3.6300%\n",
      "epoch 14.0000, loss 0.0371, train error 1.1100%\n",
      "Validation error 3.4600%\n",
      "epoch 15.0000, loss 0.0944, train error 2.7250%\n",
      "Validation error 4.5900%\n",
      "epoch 16.0000, loss 0.0326, train error 1.1000%\n",
      "Validation error 3.4800%\n",
      "epoch 17.0000, loss 0.0537, train error 1.5700%\n",
      "Validation error 3.7300%\n",
      "epoch 18.0000, loss 0.0200, train error 0.6825%\n",
      "Validation error 3.1700%\n",
      "epoch 19.0000, loss 0.0315, train error 1.0800%\n",
      "Validation error 3.5000%\n",
      "epoch 20.0000, loss 0.0434, train error 1.2850%\n",
      "Validation error 3.8300%\n",
      "epoch 21.0000, loss 0.0210, train error 0.6825%\n",
      "Validation error 3.3800%\n",
      "epoch 22.0000, loss 0.0138, train error 0.4475%\n",
      "Validation error 3.0200%\n",
      "epoch 23.0000, loss 0.0147, train error 0.5050%\n",
      "Validation error 3.2400%\n",
      "epoch 24.0000, loss 0.0151, train error 0.5150%\n",
      "Validation error 3.1100%\n",
      "epoch 25.0000, loss 0.0205, train error 0.7050%\n",
      "Validation error 3.2500%\n",
      "epoch 26.0000, loss 0.0112, train error 0.3800%\n",
      "Validation error 3.1000%\n",
      "epoch 27.0000, loss 0.0156, train error 0.5575%\n",
      "Validation error 3.2400%\n",
      "epoch 28.0000, loss 0.0138, train error 0.4650%\n",
      "Validation error 3.2000%\n",
      "epoch 29.0000, loss 0.0345, train error 0.9500%\n",
      "Validation error 3.7100%\n",
      "epoch 30.0000, loss 0.0069, train error 0.2150%\n",
      "Validation error 3.1100%\n",
      "epoch 31.0000, loss 0.0095, train error 0.3000%\n",
      "Validation error 3.1300%\n",
      "epoch 32.0000, loss 0.0058, train error 0.2150%\n",
      "Validation error 2.9600%\n",
      "epoch 33.0000, loss 0.0014, train error 0.0375%\n",
      "Validation error 2.7400%\n",
      "epoch 34.0000, loss 0.0006, train error 0.0100%\n",
      "Validation error 2.6300%\n",
      "epoch 35.0000, loss 0.0005, train error 0.0000%\n",
      "Validation error 2.6300%\n",
      "epoch 36.0000, loss 0.0003, train error 0.0000%\n",
      "Validation error 2.6500%\n",
      "epoch 37.0000, loss 0.0002, train error 0.0000%\n",
      "Validation error 2.6300%\n",
      "epoch 38.0000, loss 0.0002, train error 0.0000%\n",
      "Validation error 2.6200%\n",
      "epoch 39.0000, loss 0.0002, train error 0.0000%\n",
      "Validation error 2.6100%\n",
      "epoch 40.0000, loss 0.0001, train error 0.0000%\n",
      "Validation error 2.6100%\n",
      "\n",
      "Training Set Size: 40000.\n",
      "Gradient descent: sgd \n",
      "Epochs: 40 \n",
      "Batch Size: 64\n",
      "Learning rate: 0.15 \n",
      "Training error: 0.0000%\n",
      "Validation error: 2.6100%\n",
      "\n",
      "Duration: 96.4s\n",
      "Testing Error: 2.53%\n"
     ]
    }
   ],
   "source": [
    "import time\n",
    "\n",
    "# Setup a small MLP / Neural Network\n",
    "# we can set the first shape to None here to indicate that\n",
    "# we will input a variable number inputs to the network\n",
    "input_shape = (None, 28*28)\n",
    "layers = [InputLayer(input_shape)]\n",
    "layers.append(FullyConnectedLayer(\n",
    "                layers[-1],\n",
    "                num_units=100,\n",
    "                init_stddev=0.01,\n",
    "                activation_fun=Activation('relu')\n",
    "))\n",
    "layers.append(FullyConnectedLayer(\n",
    "                layers[-1],\n",
    "                num_units=100,\n",
    "                init_stddev=0.01,\n",
    "                activation_fun=Activation('relu')\n",
    "))\n",
    "layers.append(FullyConnectedLayer(\n",
    "                layers[-1],\n",
    "                num_units=100,\n",
    "                init_stddev=0.01,\n",
    "                activation_fun=Activation('relu')\n",
    "))\n",
    "layers.append(FullyConnectedLayer(\n",
    "                layers[-1],\n",
    "                num_units=10,\n",
    "                init_stddev=0.01,\n",
    "                # last layer has no nonlinearity \n",
    "                # (softmax will be applied in the output layer)\n",
    "                activation_fun=None \n",
    "))\n",
    "layers.append(SoftmaxOutput(layers[-1]))\n",
    "\n",
    "nn = NeuralNetwork(layers)\n",
    "# Train neural network\n",
    "t0 = time.time()\n",
    "nn.train(X_train, y_train, X_valid, y_valid, learning_rate=0.15, \n",
    "         max_epochs=40, batch_size=64, descent_type=\"sgd\", y_one_hot=True)\n",
    "t1 = time.time()\n",
    "print('Duration: {:.1f}s'.format(t1-t0))\n",
    "nn.test(X_test, y_test)"
   ]
  },
  {
   "cell_type": "code",
   "execution_count": 190,
   "metadata": {},
   "outputs": [
    {
     "data": {
      "image/png": "[encoded data removed]",
      "text/plain": [
       "<matplotlib.figure.Figure at 0x11eeddc50>"
      ]
     },
     "metadata": {},
     "output_type": "display_data"
    }
   ],
   "source": [
    "import matplotlib.pyplot as plt\n",
    "\n",
    "plt.plot(nn.trainError, 'b-', label='Training Error')\n",
    "plt.plot(nn.validError, 'g-', label='Validation Error')\n",
    "plt.xlabel('epochs')\n",
    "plt.ylabel('error %')\n",
    "plt.title('Train. and Valid. Error of Network # 11')\n",
    "plt.legend()\n",
    "plt.show()\n"
   ]
  },
  {
   "cell_type": "code",
   "execution_count": 191,
   "metadata": {},
   "outputs": [
    {
     "name": "stdout",
     "output_type": "stream",
     "text": [
      "Correctly Classified Images\n"
     ]
    },
    {
     "data": {
      "image/png": "[encoded data removed]",
      "text/plain": [
       "<matplotlib.figure.Figure at 0x11c9b1b10>"
      ]
     },
     "metadata": {},
     "output_type": "display_data"
    },
    {
     "name": "stdout",
     "output_type": "stream",
     "text": [
      "Correct label: 5, Predicted Label: 5\n"
     ]
    },
    {
     "data": {
      "image/png": "[encoded data removed]",
      "text/plain": [
       "<matplotlib.figure.Figure at 0x11ef701d0>"
      ]
     },
     "metadata": {},
     "output_type": "display_data"
    },
    {
     "name": "stdout",
     "output_type": "stream",
     "text": [
      "Correct label: 3, Predicted Label: 3\n"
     ]
    },
    {
     "data": {
      "image/png": "[encoded data removed]",
      "text/plain": [
       "<matplotlib.figure.Figure at 0x1176ce390>"
      ]
     },
     "metadata": {},
     "output_type": "display_data"
    },
    {
     "name": "stdout",
     "output_type": "stream",
     "text": [
      "Correct label: 7, Predicted Label: 7\n",
      "Incorrectly Classified Images\n"
     ]
    },
    {
     "data": {
      "image/png": "[encoded data removed]",
      "text/plain": [
       "<matplotlib.figure.Figure at 0x11ed43e50>"
      ]
     },
     "metadata": {},
     "output_type": "display_data"
    },
    {
     "name": "stdout",
     "output_type": "stream",
     "text": [
      "Correct label: 7, Predicted Label: 3\n"
     ]
    },
    {
     "data": {
      "image/png": "[encoded data removed]",
      "text/plain": [
       "<matplotlib.figure.Figure at 0x11eee4210>"
      ]
     },
     "metadata": {},
     "output_type": "display_data"
    },
    {
     "name": "stdout",
     "output_type": "stream",
     "text": [
      "Correct label: 9, Predicted Label: 3\n"
     ]
    },
    {
     "data": {
      "image/png": "[encoded data removed]",
      "text/plain": [
       "<matplotlib.figure.Figure at 0x11efca5d0>"
      ]
     },
     "metadata": {},
     "output_type": "display_data"
    },
    {
     "name": "stdout",
     "output_type": "stream",
     "text": [
      "Correct label: 0, Predicted Label: 6\n"
     ]
    }
   ],
   "source": [
    "import random\n",
    "y_test_pred = unhot(nn.predict(X_test))\n",
    "corr_class = []\n",
    "wrong_class = []\n",
    "\n",
    "for i in range(len(y_test_pred)):\n",
    "    if y_test_pred[i] != y_test[i]:\n",
    "        wrong_class.append(i)\n",
    "    if y_test_pred[i] == y_test[i]:\n",
    "        corr_class.append(i)\n",
    "\n",
    "## randomly select 3 images to plot\n",
    "show_corr = random.sample(corr_class,3)\n",
    "show_wrong = random.sample(wrong_class,3)\n",
    "\n",
    "## plot images that have been correctly classified along with prediction\n",
    "print \"Correctly Classified Images\"\n",
    "for i in show_corr:\n",
    "    image = X_test[i,:]\n",
    "    image = image.reshape((28,28))\n",
    "    plt.imshow(image, cmap='Oranges')\n",
    "    plt.show()\n",
    "    print \"Correct label: {}, Predicted Label: {}\".format(y_test[i],y_test_pred[i])\n",
    "\n",
    "print \"Incorrectly Classified Images\"\n",
    "for i in show_wrong:\n",
    "    image = X_test[i,:]\n",
    "    image = image.reshape((28,28))\n",
    "    plt.imshow(image, cmap='Oranges')\n",
    "    plt.show()\n",
    "    print \"Correct label: {}, Predicted Label: {}\".format(y_test[i],y_test_pred[i])"
   ]
  },
  {
   "cell_type": "markdown",
   "metadata": {
    "collapsed": true
   },
   "source": [
    "# Figure out a reasonable Network that achieves good performance\n",
    "As the last part of this task, setup a network that works well and gets reasonable accuracy, say ~ 1-3 percent error on the **validation set**. \n",
    "Train this network on the complete data and compute the **test error**. \n",
    "\n",
    "Once you have done this, visualize a few digits from the the test set that the network gets right as well as a few that the network gets wrong!"
   ]
  },
  {
   "cell_type": "code",
   "execution_count": null,
   "metadata": {
    "collapsed": true
   },
   "outputs": [],
   "source": []
  }
 ],
 "metadata": {
  "kernelspec": {
   "display_name": "Python 2",
   "language": "python",
   "name": "python2"
  },
  "language_info": {
   "codemirror_mode": {
    "name": "ipython",
    "version": 2
   },
   "file_extension": ".py",
   "mimetype": "text/x-python",
   "name": "python",
   "nbconvert_exporter": "python",
   "pygments_lexer": "ipython2",
   "version": "2.7.13"
  }
 },
 "nbformat": 4,
 "nbformat_minor": 1
}
